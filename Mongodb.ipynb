{
 "cells": [
  {
   "cell_type": "markdown",
   "id": "f16a461f-846c-4e5f-82e3-9ea251412f9b",
   "metadata": {},
   "source": [
    "1 What is MongoDB? Explain non-relational databases in short. In which scenarios it is preferred to use\n",
    "MongoDB over SQL databases?\n",
    "MongoDB is a non-relational document database that provides support for JSON-like storage. The MongoDB database has a flexible data model that enables you to store unstructured data, and it provides full indexing support, and replication with rich and intuitive APIs.\n",
    "Lesser Server Cost and Open-Source NoSQL databases are cheap and open source. NoSQL database implementation is easy and typically uses cheap servers to manage the exploding data and transaction while RDBMS databases are expensive and it uses big servers and storage systems."
   ]
  },
  {
   "cell_type": "markdown",
   "id": "b9bea593-2c29-49f5-b008-38bc98edd7ef",
   "metadata": {},
   "source": [
    "2 State and Explain the features of MongoDB?\n",
    "MongoDB supports field queries, range queries, and regular expression searches. Queries can return specific fields and also account for user-defined functions. This is made possible because MongoDB indexes BSON documents and uses the MongoDB Query Language (MQL)"
   ]
  },
  {
   "cell_type": "markdown",
   "id": "b6c1f5eb-84f1-4ffe-8435-195c5db4d8b5",
   "metadata": {},
   "source": [
    "3 Write a code to connect MongoDB to Python. Also, create a database and a collection in MongoDB.\n",
    "pip install pymongo\n",
    "import pymongo\n",
    "client=pymongo.MongoClient(\"import/copy connection url from mongodb\")\n",
    "db=client.test\n",
    "db=client[\"collection\"]\n",
    "coll_create=db[\"my_records\"]"
   ]
  },
  {
   "cell_type": "markdown",
   "id": "56a07fa3-b7a2-402a-975e-4af2f258fa22",
   "metadata": {},
   "source": [
    "4 Using the database and the collection created in question number 3, write a code to insert one record,\n",
    "and insert many records. Use the find() and find_one() methods to print the inserted record?\n",
    "data={\"name\":\"dhruv\",\"class\":\"pwskills\",\"age\"::23}\n",
    "coll_create.insert_one(data)\n",
    "#to insert many records\n",
    "data1=[{\"name\":\"dhruv\",\"class\":\"pwskills\",\"age\"::23}\n",
    "{\"name\":\"pratik\",\"class\":\"pwskills\",\"age\"::42}\n",
    "{\"name\":\"yash\",\"class\":\"pwskills\",\"age\"::62}]\n",
    "coll_create.insert_many(data1)"
   ]
  },
  {
   "cell_type": "markdown",
   "id": "e7c5a6ea-a9ef-4595-b528-8e068a234e94",
   "metadata": {},
   "source": [
    "5 Explain how you can use the find() method to query the MongoDB database. Write a simple code to\n",
    "demonstrate this.\n",
    "In mongoDB, the find() method is used to fetch a particular data from the table. In other words, it is used to select data in a table. It is also used to return all events to the selected data. The find() method consists of two parameters by which we can find a particular record.\n",
    "for i in coll_create.find()\n",
    "print(i)\n",
    "#To find the specific data\n",
    "for i in coll_create.find(\"class\":\"pwskills\")\n",
    "print (i)"
   ]
  },
  {
   "cell_type": "markdown",
   "id": "76435b63-8782-4b4c-9cba-6842b14b7c09",
   "metadata": {},
   "source": [
    "6 Explain the sort() method. Give an example to demonstrate sorting in MongoDB.\n",
    "The sort() method specifies the order in which the query returns the matching documents from the given collection. You must apply this method to the cursor before retrieving any documents from the database."
   ]
  },
  {
   "cell_type": "markdown",
   "id": "4e88f8f8-01a5-4344-9c17-5e08bc76056b",
   "metadata": {},
   "source": [
    "7 Explain why delete_one(), delete_many(), and drop() is used.\n",
    "delete.one -  This is used to delete one record in the collection.\n",
    "delete.many - This is used to delete many records in the collection.\n",
    "drop() - This is used to delete the collection.\n",
    "coll_create.sort(data)"
   ]
  },
  {
   "cell_type": "code",
   "execution_count": null,
   "id": "e584ebd4-3cb7-4173-b9e8-5818ac183829",
   "metadata": {},
   "outputs": [],
   "source": []
  }
 ],
 "metadata": {
  "kernelspec": {
   "display_name": "Python 3 (ipykernel)",
   "language": "python",
   "name": "python3"
  },
  "language_info": {
   "codemirror_mode": {
    "name": "ipython",
    "version": 3
   },
   "file_extension": ".py",
   "mimetype": "text/x-python",
   "name": "python",
   "nbconvert_exporter": "python",
   "pygments_lexer": "ipython3",
   "version": "3.10.8"
  }
 },
 "nbformat": 4,
 "nbformat_minor": 5
}
